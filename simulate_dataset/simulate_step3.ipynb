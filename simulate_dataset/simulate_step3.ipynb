{
 "cells": [
  {
   "cell_type": "code",
   "execution_count": 1,
   "metadata": {},
   "outputs": [
    {
     "name": "stderr",
     "output_type": "stream",
     "text": [
      "/data2/wangpengxiao/anaconda3/lib/python3.6/site-packages/h5py/__init__.py:36: FutureWarning: Conversion of the second argument of issubdtype from `float` to `np.floating` is deprecated. In future, it will be treated as `np.float64 == np.dtype(float).type`.\n",
      "  from ._conv import register_converters as _register_converters\n"
     ]
    }
   ],
   "source": [
    "# import os\n",
    "# os.environ[\"CUDA_DEVICE_ORDER\"]=\"PCI_BUS_ID\" # see issue #152\n",
    "# os.environ[\"CUDA_VISIBLE_DEVICES\"]=\"6\"\n",
    "# import tensorflow as tf\n",
    "# gpu_options = tf.GPUOptions(allow_growth=True)\n",
    "# sess = tf.Session(config=tf.ConfigProto(gpu_options=gpu_options))\n",
    "\n",
    "import numpy as np\n",
    "import cv2\n",
    "from tqdm import tqdm\n",
    "import glob\n",
    "import os.path as osp\n",
    "import random\n",
    "from PIL import Image\n",
    "from scipy import ndimage\n",
    "import tensorflow as tf\n",
    "from spatial_transformer import transformer\n",
    "import numpy as np\n",
    "from tf_utils import weight_variable, bias_variable, dense_to_one_hot\n",
    "import matplotlib.pyplot as plt"
   ]
  },
  {
   "cell_type": "code",
   "execution_count": 2,
   "metadata": {},
   "outputs": [],
   "source": [
    "# spray_texture = \"/data4/wangpengxiao/color_spray_texture\"\n",
    "# spray_texture_path = glob.glob(osp.join(spray_texture,'*.jpg'))  \n",
    "# spray_texture_path = sorted(spray_texture_path)"
   ]
  },
  {
   "cell_type": "code",
   "execution_count": 3,
   "metadata": {},
   "outputs": [],
   "source": [
    "# img = cv2.imread(spray_texture_path[0])"
   ]
  },
  {
   "cell_type": "code",
   "execution_count": 4,
   "metadata": {},
   "outputs": [],
   "source": [
    "# for i in range(np.size(img,0)):\n",
    "#     for j in range(np.size(img,1)):\n",
    "#         img[i,j,:] = 255 - img[i,j,:]\n",
    "\n",
    "# im = Image.fromarray(img.astype('uint8'))        "
   ]
  },
  {
   "cell_type": "code",
   "execution_count": 5,
   "metadata": {},
   "outputs": [],
   "source": [
    "# tem = im.copy()\n",
    "# tem.paste(im,(0,35))"
   ]
  },
  {
   "cell_type": "code",
   "execution_count": 6,
   "metadata": {},
   "outputs": [],
   "source": [
    "# plt.imshow(tem)"
   ]
  },
  {
   "cell_type": "code",
   "execution_count": 7,
   "metadata": {},
   "outputs": [],
   "source": [
    "# plt.imshow(im)"
   ]
  },
  {
   "cell_type": "code",
   "execution_count": 8,
   "metadata": {},
   "outputs": [],
   "source": [
    "# tem = np.array(tem)\n",
    "# im = np.array(im)\n",
    "# for i in range(np.size(tem,0)):\n",
    "#     for j in range(np.size(tem,1)):\n",
    "#         if (tem[i,j,:]==[0,0,0]).all() and (im[i,j,:]!=[0,0,0]).all():\n",
    "#             tem[i,j,:] = im[i,j,:]"
   ]
  },
  {
   "cell_type": "code",
   "execution_count": 9,
   "metadata": {},
   "outputs": [],
   "source": [
    "# plt.imshow(tem)"
   ]
  },
  {
   "cell_type": "code",
   "execution_count": 10,
   "metadata": {},
   "outputs": [],
   "source": [
    "# for i in range(np.size(tem,0)):\n",
    "#     for j in range(np.size(tem,1)):\n",
    "#         if (im[i,j,:]!=[0,0,0]).all():\n",
    "#             im[i,j,:] = im[i,j,:] - 10"
   ]
  },
  {
   "cell_type": "code",
   "execution_count": 11,
   "metadata": {},
   "outputs": [],
   "source": [
    "# plt.imshow(im)"
   ]
  },
  {
   "cell_type": "code",
   "execution_count": 12,
   "metadata": {},
   "outputs": [],
   "source": [
    "# lamda = 0.03\n",
    "# paper = np.zeros(im.shape)\n",
    "# center = [int(im.shape[0]/2),int(im.shape[1]/2)]\n",
    "# color = np.array([255,255,0])\n",
    "# paper[center[0],center[1],:] = color\n",
    "# for i in range(np.size(im,0)):\n",
    "#     for j in range(np.size(im,1)):\n",
    "#         dis = np.sqrt(np.sum(np.square(np.array([i,j])-np.array(center))))+0.01\n",
    "#         paper[i,j,:] = np.array(color)*lamda/dis\n",
    "\n",
    "# paper = np.maximum(paper,0)\n",
    "# paper = np.minimum(paper,1)\n",
    "# paper = (paper*255.).astype('uint8')\n",
    "# plt.imshow(paper)"
   ]
  },
  {
   "cell_type": "code",
   "execution_count": 13,
   "metadata": {},
   "outputs": [],
   "source": [
    "# paper[20,35]"
   ]
  },
  {
   "cell_type": "code",
   "execution_count": 14,
   "metadata": {},
   "outputs": [],
   "source": [
    "# paper.min()"
   ]
  },
  {
   "cell_type": "code",
   "execution_count": 20,
   "metadata": {},
   "outputs": [],
   "source": [
    "#提取图片主要色\n",
    "import colorsys\n",
    " \n",
    "def get_dominant_color(image):\n",
    "    \n",
    "#颜色模式转换，以便输出rgb颜色值\n",
    "    image = image.convert('RGBA')\n",
    "    \n",
    "#生成缩略图，减少计算量，减小cpu压力\n",
    "    image.thumbnail((200, 200))\n",
    "    \n",
    "    max_score = 0#原来的代码此处为None\n",
    "    dominant_color = 0#原来的代码此处为None，但运行出错，改为0以后 运行成功，原因在于在下面的 score > max_score的比较中，max_score的初始格式不定\n",
    "    \n",
    "    for count, (r, g, b, a) in image.getcolors(image.size[0] * image.size[1]):\n",
    "        # 跳过纯黑色\n",
    "        if a == 0:\n",
    "            continue\n",
    "        \n",
    "        saturation = colorsys.rgb_to_hsv(r / 255.0, g / 255.0, b / 255.0)[1]\n",
    "       \n",
    "        y = min(abs(r * 2104 + g * 4130 + b * 802 + 4096 + 131072) >> 13, 235)\n",
    "       \n",
    "        y = (y - 16.0) / (235 - 16)\n",
    "        \n",
    "        # 忽略高亮色\n",
    "        if y > 0.9:\n",
    "            continue\n",
    "            \n",
    "        # 忽略白背景\n",
    "        if ((r>230)&(g>230)&(b>230)):\n",
    "            continue\n",
    "        \n",
    "        # Calculate the score, preferring highly saturated colors.\n",
    "        # Add 0.1 to the saturation so we don't completely ignore grayscale\n",
    "        # colors by multiplying the count by zero, but still give them a low\n",
    "        # weight.\n",
    "        score = (saturation + 0.1) * count\n",
    "        \n",
    "        if score > max_score:\n",
    "            max_score = score\n",
    "            dominant_color = (b, g, r)\n",
    "    \n",
    "    return dominant_color"
   ]
  },
  {
   "cell_type": "code",
   "execution_count": 21,
   "metadata": {},
   "outputs": [],
   "source": [
    "def min_dis(point, point_list):\n",
    "    dis = []\n",
    "    for p in point_list:\n",
    "        dis.append(np.sqrt(np.sum(np.square(np.array(point)-np.array(p)))))\n",
    "    \n",
    "    return min(dis)"
   ]
  },
  {
   "cell_type": "code",
   "execution_count": 22,
   "metadata": {},
   "outputs": [
    {
     "name": "stderr",
     "output_type": "stream",
     "text": [
      "\n",
      "  0%|          | 0/30173 [00:00<?, ?it/s]\u001b[A\n",
      "  0%|          | 1/30173 [00:00<2:04:55,  4.03it/s]\u001b[A\n",
      "  0%|          | 2/30173 [00:00<4:10:59,  2.00it/s]\u001b[A\n",
      "  0%|          | 3/30173 [00:01<4:35:52,  1.82it/s]\u001b[A\n",
      "  0%|          | 4/30173 [00:02<4:53:16,  1.71it/s]\u001b[A\n",
      "  0%|          | 5/30173 [00:03<6:38:50,  1.26it/s]\u001b[A\n",
      "  0%|          | 6/30173 [00:06<9:08:55,  1.09s/it]\u001b[A\n",
      "  0%|          | 7/30173 [00:08<9:43:45,  1.16s/it]\u001b[A\n",
      "  0%|          | 8/30173 [00:09<9:29:21,  1.13s/it]\u001b[A\n",
      "  0%|          | 9/30173 [00:09<8:59:34,  1.07s/it]\u001b[A\n",
      "  0%|          | 10/30173 [00:12<10:10:22,  1.21s/it]\u001b[A\n",
      "  0%|          | 11/30173 [00:12<9:34:53,  1.14s/it] \u001b[A\n",
      "  0%|          | 12/30173 [00:12<9:03:53,  1.08s/it]\u001b[A\n",
      "  0%|          | 13/30173 [00:14<9:09:00,  1.09s/it]\u001b[A\n",
      "  0%|          | 14/30173 [00:14<8:43:15,  1.04s/it]\u001b[A\n",
      "  0%|          | 15/30173 [00:15<8:47:17,  1.05s/it]\u001b[A\n",
      "  0%|          | 16/30173 [00:15<8:18:24,  1.01it/s]\u001b[A\n",
      "  0%|          | 17/30173 [00:16<8:19:26,  1.01it/s]\u001b[A\n",
      "  0%|          | 18/30173 [00:17<8:09:27,  1.03it/s]\u001b[A\n",
      "  0%|          | 19/30173 [00:19<8:41:48,  1.04s/it]\u001b[A\n",
      "  0%|          | 20/30173 [00:20<8:26:18,  1.01s/it]\u001b[A\n",
      "  0%|          | 21/30173 [00:20<8:06:23,  1.03it/s]\u001b[A\n",
      "  0%|          | 22/30173 [00:21<8:04:34,  1.04it/s]\u001b[A\n",
      "  0%|          | 23/30173 [00:22<8:12:12,  1.02it/s]\u001b[A\n",
      "  0%|          | 24/30173 [00:24<8:34:32,  1.02s/it]\u001b[A\n",
      "  0%|          | 25/30173 [00:25<8:34:45,  1.02s/it]\u001b[A\n",
      "  0%|          | 26/30173 [00:26<8:22:29,  1.00s/it]\u001b[A\n",
      "  0%|          | 27/30173 [00:27<8:24:26,  1.00s/it]\u001b[A\n",
      "  0%|          | 28/30173 [00:29<8:43:54,  1.04s/it]\u001b[A\n",
      "  0%|          | 29/30173 [00:31<9:09:15,  1.09s/it]\u001b[A\n",
      "  0%|          | 30/30173 [00:33<9:21:41,  1.12s/it]\u001b[A"
     ]
    },
    {
     "ename": "KeyboardInterrupt",
     "evalue": "",
     "output_type": "error",
     "traceback": [
      "\u001b[0;31m---------------------------------------------------------------------------\u001b[0m",
      "\u001b[0;31mKeyboardInterrupt\u001b[0m                         Traceback (most recent call last)",
      "\u001b[0;32m<ipython-input-22-1707e8a2a7b4>\u001b[0m in \u001b[0;36m<module>\u001b[0;34m()\u001b[0m\n\u001b[1;32m     39\u001b[0m     \u001b[0;32mfor\u001b[0m \u001b[0mi\u001b[0m \u001b[0;32min\u001b[0m \u001b[0mrange\u001b[0m\u001b[0;34m(\u001b[0m\u001b[0mh\u001b[0m\u001b[0;34m)\u001b[0m\u001b[0;34m:\u001b[0m\u001b[0;34m\u001b[0m\u001b[0m\n\u001b[1;32m     40\u001b[0m         \u001b[0;32mfor\u001b[0m \u001b[0mj\u001b[0m \u001b[0;32min\u001b[0m \u001b[0mrange\u001b[0m\u001b[0;34m(\u001b[0m\u001b[0mw\u001b[0m\u001b[0;34m)\u001b[0m\u001b[0;34m:\u001b[0m\u001b[0;34m\u001b[0m\u001b[0m\n\u001b[0;32m---> 41\u001b[0;31m             \u001b[0mdis\u001b[0m \u001b[0;34m=\u001b[0m \u001b[0mmin_dis\u001b[0m\u001b[0;34m(\u001b[0m\u001b[0;34m[\u001b[0m\u001b[0mi\u001b[0m\u001b[0;34m,\u001b[0m \u001b[0mj\u001b[0m\u001b[0;34m]\u001b[0m\u001b[0;34m,\u001b[0m\u001b[0mcenter_point_list\u001b[0m\u001b[0;34m)\u001b[0m\u001b[0;34m\u001b[0m\u001b[0m\n\u001b[0m\u001b[1;32m     42\u001b[0m             \u001b[0mpaper\u001b[0m\u001b[0;34m[\u001b[0m\u001b[0mi\u001b[0m\u001b[0;34m,\u001b[0m\u001b[0mj\u001b[0m\u001b[0;34m,\u001b[0m\u001b[0;34m:\u001b[0m\u001b[0;34m]\u001b[0m \u001b[0;34m=\u001b[0m \u001b[0mnp\u001b[0m\u001b[0;34m.\u001b[0m\u001b[0marray\u001b[0m\u001b[0;34m(\u001b[0m\u001b[0mcolor\u001b[0m\u001b[0;34m)\u001b[0m\u001b[0;34m/\u001b[0m\u001b[0mnp\u001b[0m\u001b[0;34m.\u001b[0m\u001b[0mexp\u001b[0m\u001b[0;34m(\u001b[0m\u001b[0mlamda\u001b[0m\u001b[0;34m*\u001b[0m\u001b[0mdis\u001b[0m\u001b[0;34m)\u001b[0m\u001b[0;31m#*lamda/dis\u001b[0m\u001b[0;34m\u001b[0m\u001b[0m\n\u001b[1;32m     43\u001b[0m             \u001b[0mmask\u001b[0m\u001b[0;34m[\u001b[0m\u001b[0mi\u001b[0m\u001b[0;34m,\u001b[0m\u001b[0mj\u001b[0m\u001b[0;34m]\u001b[0m \u001b[0;34m=\u001b[0m \u001b[0mnp\u001b[0m\u001b[0;34m.\u001b[0m\u001b[0marray\u001b[0m\u001b[0;34m(\u001b[0m\u001b[0;34m[\u001b[0m\u001b[0;36m255\u001b[0m\u001b[0;34m]\u001b[0m\u001b[0;34m)\u001b[0m\u001b[0;34m/\u001b[0m\u001b[0mnp\u001b[0m\u001b[0;34m.\u001b[0m\u001b[0mexp\u001b[0m\u001b[0;34m(\u001b[0m\u001b[0mlamda\u001b[0m\u001b[0;34m*\u001b[0m\u001b[0mdis\u001b[0m\u001b[0;34m)\u001b[0m\u001b[0;31m#*lamda/dis\u001b[0m\u001b[0;34m\u001b[0m\u001b[0m\n",
      "\u001b[0;32m<ipython-input-21-9416cd60c612>\u001b[0m in \u001b[0;36mmin_dis\u001b[0;34m(point, point_list)\u001b[0m\n\u001b[1;32m      2\u001b[0m     \u001b[0mdis\u001b[0m \u001b[0;34m=\u001b[0m \u001b[0;34m[\u001b[0m\u001b[0;34m]\u001b[0m\u001b[0;34m\u001b[0m\u001b[0m\n\u001b[1;32m      3\u001b[0m     \u001b[0;32mfor\u001b[0m \u001b[0mp\u001b[0m \u001b[0;32min\u001b[0m \u001b[0mpoint_list\u001b[0m\u001b[0;34m:\u001b[0m\u001b[0;34m\u001b[0m\u001b[0m\n\u001b[0;32m----> 4\u001b[0;31m         \u001b[0mdis\u001b[0m\u001b[0;34m.\u001b[0m\u001b[0mappend\u001b[0m\u001b[0;34m(\u001b[0m\u001b[0mnp\u001b[0m\u001b[0;34m.\u001b[0m\u001b[0msqrt\u001b[0m\u001b[0;34m(\u001b[0m\u001b[0mnp\u001b[0m\u001b[0;34m.\u001b[0m\u001b[0msum\u001b[0m\u001b[0;34m(\u001b[0m\u001b[0mnp\u001b[0m\u001b[0;34m.\u001b[0m\u001b[0msquare\u001b[0m\u001b[0;34m(\u001b[0m\u001b[0mnp\u001b[0m\u001b[0;34m.\u001b[0m\u001b[0marray\u001b[0m\u001b[0;34m(\u001b[0m\u001b[0mpoint\u001b[0m\u001b[0;34m)\u001b[0m\u001b[0;34m-\u001b[0m\u001b[0mnp\u001b[0m\u001b[0;34m.\u001b[0m\u001b[0marray\u001b[0m\u001b[0;34m(\u001b[0m\u001b[0mp\u001b[0m\u001b[0;34m)\u001b[0m\u001b[0;34m)\u001b[0m\u001b[0;34m)\u001b[0m\u001b[0;34m)\u001b[0m\u001b[0;34m)\u001b[0m\u001b[0;34m\u001b[0m\u001b[0m\n\u001b[0m\u001b[1;32m      5\u001b[0m \u001b[0;34m\u001b[0m\u001b[0m\n\u001b[1;32m      6\u001b[0m     \u001b[0;32mreturn\u001b[0m \u001b[0mmin\u001b[0m\u001b[0;34m(\u001b[0m\u001b[0mdis\u001b[0m\u001b[0;34m)\u001b[0m\u001b[0;34m\u001b[0m\u001b[0m\n",
      "\u001b[0;31mKeyboardInterrupt\u001b[0m: "
     ]
    }
   ],
   "source": [
    "###############success#######################\n",
    "source_data_path = \"/data4/wangpengxiao/zalando\"\n",
    "source_img_path = glob.glob(osp.join(source_data_path,'*.jpg'))  \n",
    "source_img_path = sorted(source_img_path)\n",
    "\n",
    "save_color_spray = '/data4/wangpengxiao/zalando_color_spray'\n",
    "\n",
    "# path = source_img_path[4]\n",
    "for path in tqdm(source_img_path):\n",
    "    img = cv2.imread(path)\n",
    "    h = int(img.shape[0]/30)\n",
    "    w = int(img.shape[1]/30)\n",
    "    a_x = np.random.randint(0, h)\n",
    "    a_y = np.random.randint(0, w)\n",
    "    b_x = np.random.randint(0, h)\n",
    "    b_y = np.random.randint(0, w)\n",
    "    begin_point = np.array([min(a_x,b_x),a_y])\n",
    "    end_point = np.array([max(a_x,b_x),b_y])\n",
    "    tan = (begin_point[1] - end_point[1]) / (begin_point[0] - end_point[0]+0.001)\n",
    "\n",
    "\n",
    "    center_point_list = []\n",
    "    for i in range(begin_point[0],end_point[0]+1):\n",
    "        a = i\n",
    "        b = (i-begin_point[0])*tan + begin_point[1]\n",
    "        center_point_list.append(np.array([int(a),int(b)]))\n",
    "    center_point_list = np.array(center_point_list)    \n",
    "\n",
    "\n",
    "    lamda = np.random.randint(5, 11)/100#一个超参\n",
    "    paper = np.zeros((h,w,3))\n",
    "    mask = np.zeros((h,w))\n",
    "    center = [int(h/2),int(w/2)]\n",
    "    color = get_dominant_color(Image.fromarray(img))#提取图片主要色\n",
    "    #color = img[int(img.shape[0]/2),int(img.shape[1]/2),:]#提取图片主要色\n",
    "    # color = img[int(img.shape[0]*3/5),int(img.shape[1]*1/2),:]\n",
    "    # color = np.array([255,255,0])\n",
    "    paper[center[0],center[1],:] = color\n",
    "    for i in range(h):\n",
    "        for j in range(w):\n",
    "            dis = min_dis([i, j],center_point_list)\n",
    "            paper[i,j,:] = np.array(color)/np.exp(lamda*dis)#*lamda/dis\n",
    "            mask[i,j] = np.array([255])/np.exp(lamda*dis)#*lamda/dis\n",
    "\n",
    "#     paper = np.maximum(paper,0)\n",
    "#     paper = np.minimum(paper,255)\n",
    "    paper = (paper).astype('uint8')\n",
    "\n",
    "#     mask = np.maximum(mask,0)\n",
    "#     mask = np.minimum(mask,255)\n",
    "    mask = (mask).astype('uint8')\n",
    "\n",
    "    mask = cv2.resize(mask, (img.shape[1], img.shape[0]), interpolation=cv2.INTER_CUBIC)\n",
    "    im = cv2.resize(paper, (img.shape[1], img.shape[0]), interpolation=cv2.INTER_CUBIC)\n",
    "    imq = Image.fromarray(im)\n",
    "    imp = Image.open(path).convert('RGB')\n",
    "\n",
    "    imp.paste(imq,(0, 0, imp.size[0], imp.size[1]),mask = Image.fromarray(mask))\n",
    "\n",
    "    imp.save(osp.join(save_color_spray, osp.basename(path)))    "
   ]
  },
  {
   "cell_type": "code",
   "execution_count": 19,
   "metadata": {},
   "outputs": [
    {
     "data": {
      "text/plain": [
       "<matplotlib.image.AxesImage at 0x7f051ca61ac8>"
      ]
     },
     "execution_count": 19,
     "metadata": {},
     "output_type": "execute_result"
    },
    {
     "data": {
      "image/png": "[encoded data removed]",
      "text/plain": [
       "<Figure size 432x288 with 1 Axes>"
      ]
     },
     "metadata": {},
     "output_type": "display_data"
    }
   ],
   "source": [
    "# plt.imshow(imp)"
   ]
  },
  {
   "cell_type": "code",
   "execution_count": null,
   "metadata": {},
   "outputs": [],
   "source": [
    "# ###############success#######################\n",
    "# source_data_path = \"/data4/wangpengxiao/zalando\"\n",
    "# source_img_path = glob.glob(osp.join(source_data_path,'*.jpg'))  \n",
    "# source_img_path = sorted(source_img_path)\n",
    "\n",
    "# save_color_spray = '/data4/wangpengxiao/zalando_color_spray'\n",
    "\n",
    "# path = source_img_path[4]\n",
    "\n",
    "# img = cv2.imread(path)\n",
    "# h = int(img.shape[0]/30)\n",
    "# w = int(img.shape[1]/30)\n",
    "# a_x = np.random.randint(0, h)\n",
    "# a_y = np.random.randint(0, w)\n",
    "# b_x = np.random.randint(0, h)\n",
    "# b_y = np.random.randint(0, w)\n",
    "# begin_point = np.array([min(a_x,b_x),a_y])\n",
    "# end_point = np.array([max(a_x,b_x),b_y])\n",
    "# tan = (begin_point[1] - end_point[1]) / (begin_point[0] - end_point[0]+0.001)"
   ]
  },
  {
   "cell_type": "code",
   "execution_count": null,
   "metadata": {},
   "outputs": [],
   "source": [
    "# center_point_list = []\n",
    "# for i in range(begin_point[0],end_point[0]+1):\n",
    "#     a = i\n",
    "#     b = (i-begin_point[0])*tan + begin_point[1]\n",
    "#     center_point_list.append(np.array([int(a),int(b)]))\n",
    "# center_point_list = np.array(center_point_list)    "
   ]
  },
  {
   "cell_type": "code",
   "execution_count": null,
   "metadata": {},
   "outputs": [],
   "source": [
    "# lamda = np.random.randint(5, 11)/100#一个超参\n",
    "# paper = np.zeros((h,w,3))\n",
    "# mask = np.zeros((h,w))\n",
    "# center = [int(h/2),int(w/2)]\n",
    "# color = get_dominant_color(Image.fromarray(img))#提取图片主要色\n",
    "# #color = img[int(img.shape[0]/2),int(img.shape[1]/2),:]#提取图片主要色\n",
    "# #color = img[int(img.shape[0]*2/5),int(img.shape[1]*3/5),:]\n",
    "# # color = np.array([255,255,0])\n",
    "# paper[center[0],center[1],:] = color\n",
    "# for i in range(h):\n",
    "#     for j in range(w):\n",
    "#         dis = min_dis([i, j],center_point_list)\n",
    "#         paper[i,j,:] = np.array(color)/np.exp(lamda*dis)#*lamda/dis\n",
    "#         mask[i,j] = np.array([255])/np.exp(lamda*dis)#*lamda/dis\n",
    "        \n",
    "# # print(paper.max())    \n",
    "# # print(paper.min()) \n",
    "# paper = np.maximum(paper,0)\n",
    "# paper = np.minimum(paper,255)\n",
    "# # paper = (paper*255.).astype('uint8')\n",
    "# paper = (paper).astype('uint8')\n",
    "\n",
    "# # print(mask.max())\n",
    "# # print(mask.min())\n",
    "# mask = np.maximum(mask,0)\n",
    "# mask = np.minimum(mask,255)\n",
    "# # mask = (mask*255.).astype('uint8')\n",
    "# mask = (mask).astype('uint8')\n",
    "# # plt.imshow(paper)"
   ]
  },
  {
   "cell_type": "code",
   "execution_count": null,
   "metadata": {},
   "outputs": [],
   "source": [
    "# plt.imshow(paper)"
   ]
  },
  {
   "cell_type": "code",
   "execution_count": null,
   "metadata": {},
   "outputs": [],
   "source": [
    "# plt.imshow(mask)"
   ]
  },
  {
   "cell_type": "code",
   "execution_count": null,
   "metadata": {},
   "outputs": [],
   "source": [
    "# mask = cv2.resize(mask, (img.shape[1], img.shape[0]), interpolation=cv2.INTER_CUBIC)\n",
    "# im = cv2.resize(paper, (img.shape[1], img.shape[0]), interpolation=cv2.INTER_CUBIC)\n",
    "# imq = Image.fromarray(im)\n",
    "# imp = Image.open(path).convert('RGB')\n",
    "# #0是透明，255是全黑\n",
    "# imp.paste(imq,(0, 0, imp.size[0], imp.size[1]),mask = Image.fromarray(mask))\n",
    "# # plt.imshow(imp)\n",
    "# # plt.imshow(mask)\n",
    "# imp.save(osp.join(save_color_spray, osp.basename(path)))     \n",
    "# ###############success#######################"
   ]
  },
  {
   "cell_type": "code",
   "execution_count": null,
   "metadata": {},
   "outputs": [],
   "source": [
    "# plt.imshow(imp)"
   ]
  },
  {
   "cell_type": "code",
   "execution_count": null,
   "metadata": {},
   "outputs": [],
   "source": [
    "# lamda"
   ]
  },
  {
   "cell_type": "code",
   "execution_count": null,
   "metadata": {},
   "outputs": [],
   "source": [
    "# color"
   ]
  },
  {
   "cell_type": "code",
   "execution_count": null,
   "metadata": {},
   "outputs": [],
   "source": [
    "# img[int(img.shape[0]*2/5),int(img.shape[1]*3/5),:]"
   ]
  },
  {
   "cell_type": "code",
   "execution_count": null,
   "metadata": {},
   "outputs": [],
   "source": [
    "# center_point_list"
   ]
  },
  {
   "cell_type": "code",
   "execution_count": null,
   "metadata": {},
   "outputs": [],
   "source": [
    "# new = (img*0.9+im*0.1).astype('uint8')\n",
    "# new = np.maximum(new,0)\n",
    "# new = np.minimum(new,255)\n",
    "# plt.imshow(new)"
   ]
  },
  {
   "cell_type": "code",
   "execution_count": null,
   "metadata": {},
   "outputs": [],
   "source": [
    "# for i in range(h):\n",
    "#     for j in range(w):\n",
    "# coordinate = np.where(im == np.array([0,0,0]))\n",
    "# for i in range(len(coordinate[0])):\n",
    "#     im[coordinate[0][i],coordinate[1][i],:] = img[coordinate[0][i],coordinate[1][i],:]     "
   ]
  },
  {
   "cell_type": "code",
   "execution_count": null,
   "metadata": {},
   "outputs": [],
   "source": [
    "# plt.imshow(im)"
   ]
  }
 ],
 "metadata": {
  "kernelspec": {
   "display_name": "Python 3",
   "language": "python",
   "name": "python3"
  },
  "language_info": {
   "codemirror_mode": {
    "name": "ipython",
    "version": 3
   },
   "file_extension": ".py",
   "mimetype": "text/x-python",
   "name": "python",
   "nbconvert_exporter": "python",
   "pygments_lexer": "ipython3",
   "version": "3.6.5"
  }
 },
 "nbformat": 4,
 "nbformat_minor": 2
}
